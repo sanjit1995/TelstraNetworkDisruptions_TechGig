{
  "nbformat": 4,
  "nbformat_minor": 0,
  "metadata": {
    "colab": {
      "name": "TelstraNetworkDisruptions.ipynb",
      "provenance": [],
      "mount_file_id": "15PfV7df6hoPVAtuEnZn0U2aiw11XIA3o",
      "authorship_tag": "ABX9TyMOgk6LK2AfJ8EVyF8Hjpep",
      "include_colab_link": true
    },
    "kernelspec": {
      "name": "python3",
      "display_name": "Python 3"
    }
  },
  "cells": [
    {
      "cell_type": "markdown",
      "metadata": {
        "id": "view-in-github",
        "colab_type": "text"
      },
      "source": [
        "<a href=\"https://colab.research.google.com/github/sanjit1995/TelstraNetworkDisruptions_TechGig/blob/master/TelstraNetworkDisruptions.ipynb\" target=\"_parent\"><img src=\"https://colab.research.google.com/assets/colab-badge.svg\" alt=\"Open In Colab\"/></a>"
      ]
    },
    {
      "cell_type": "code",
      "metadata": {
        "id": "MNl3fzrH5BUL",
        "colab_type": "code",
        "colab": {}
      },
      "source": [
        "import pandas as pd\n",
        "import numpy as np"
      ],
      "execution_count": 0,
      "outputs": []
    },
    {
      "cell_type": "code",
      "metadata": {
        "id": "Vep7u9dp5e7E",
        "colab_type": "code",
        "colab": {}
      },
      "source": [
        "train = pd.read_csv(\"/content/drive/My Drive/Colab Notebooks/data/TelstraNWDisruptions/train.csv\")\n",
        "test = pd.read_csv(\"/content/drive/My Drive/Colab Notebooks/data/TelstraNWDisruptions/test.csv\")\n",
        "severity = pd.read_csv(\"/content/drive/My Drive/Colab Notebooks/data/TelstraNWDisruptions/severity-type.csv\")\n",
        "resource = pd.read_csv(\"/content/drive/My Drive/Colab Notebooks/data/TelstraNWDisruptions/resource-type.csv\")\n",
        "log = pd.read_csv(\"/content/drive/My Drive/Colab Notebooks/data/TelstraNWDisruptions/log-feature.csv\")\n",
        "event = pd.read_csv(\"/content/drive/My Drive/Colab Notebooks/data/TelstraNWDisruptions/event-type.csv\")"
      ],
      "execution_count": 0,
      "outputs": []
    },
    {
      "cell_type": "code",
      "metadata": {
        "id": "RMRkOCJu6QyH",
        "colab_type": "code",
        "outputId": "b283fa2c-5b75-41ed-e6fd-3f079040f2e3",
        "colab": {
          "base_uri": "https://localhost:8080/",
          "height": 68
        }
      },
      "source": [
        "resource.count()"
      ],
      "execution_count": 3,
      "outputs": [
        {
          "output_type": "execute_result",
          "data": {
            "text/plain": [
              "id               21076\n",
              "resource_type    21076\n",
              "dtype: int64"
            ]
          },
          "metadata": {
            "tags": []
          },
          "execution_count": 3
        }
      ]
    },
    {
      "cell_type": "code",
      "metadata": {
        "id": "jmUl63OX6ohU",
        "colab_type": "code",
        "outputId": "4b14f8c4-4158-4f3f-ab7f-31e8774fedc5",
        "colab": {
          "base_uri": "https://localhost:8080/",
          "height": 34
        }
      },
      "source": [
        "np.unique(resource['id']).size"
      ],
      "execution_count": 0,
      "outputs": [
        {
          "output_type": "execute_result",
          "data": {
            "text/plain": [
              "18552"
            ]
          },
          "metadata": {
            "tags": []
          },
          "execution_count": 16
        }
      ]
    },
    {
      "cell_type": "code",
      "metadata": {
        "id": "ovttrAtm615v",
        "colab_type": "code",
        "outputId": "d0f1e9b8-1b58-44bd-efa7-3cbe4be8c400",
        "colab": {
          "base_uri": "https://localhost:8080/",
          "height": 34
        }
      },
      "source": [
        "np.unique(severity['id']).size"
      ],
      "execution_count": 0,
      "outputs": [
        {
          "output_type": "execute_result",
          "data": {
            "text/plain": [
              "18552"
            ]
          },
          "metadata": {
            "tags": []
          },
          "execution_count": 10
        }
      ]
    },
    {
      "cell_type": "code",
      "metadata": {
        "id": "VaDAvhyX_qaw",
        "colab_type": "code",
        "colab": {}
      },
      "source": [
        "ids = resource['id']\n",
        "resource[ids.isin(ids[ids.duplicated()])]"
      ],
      "execution_count": 0,
      "outputs": []
    },
    {
      "cell_type": "code",
      "metadata": {
        "id": "qju20m6bIPBC",
        "colab_type": "code",
        "colab": {}
      },
      "source": [
        "resource.info()"
      ],
      "execution_count": 0,
      "outputs": []
    },
    {
      "cell_type": "code",
      "metadata": {
        "id": "NuVQ5yZNBcSD",
        "colab_type": "code",
        "colab": {}
      },
      "source": [
        "resource.pivot(index='id',columns='resource_type', values='resource_type')"
      ],
      "execution_count": 0,
      "outputs": []
    },
    {
      "cell_type": "code",
      "metadata": {
        "id": "l_ZSocX-JbOQ",
        "colab_type": "code",
        "colab": {}
      },
      "source": [
        "resource_df = resource.copy()\n",
        "resource_df = pd.get_dummies(resource_df['resource_type'], drop_first=False)\n",
        "resource_df = pd.concat([resource['id'],resource_df], axis=1)\n",
        "resource_df = resource_df.groupby(['id'], as_index=False, sort=False).sum()\n",
        "resource_df"
      ],
      "execution_count": 0,
      "outputs": []
    },
    {
      "cell_type": "code",
      "metadata": {
        "id": "0pR9pAVcadD_",
        "colab_type": "code",
        "colab": {}
      },
      "source": [
        "resource_df"
      ],
      "execution_count": 0,
      "outputs": []
    },
    {
      "cell_type": "code",
      "metadata": {
        "id": "jaQIojqbXSa6",
        "colab_type": "code",
        "colab": {}
      },
      "source": [
        "new_df.loc[new_df['id'] == 9320]"
      ],
      "execution_count": 0,
      "outputs": []
    },
    {
      "cell_type": "code",
      "metadata": {
        "id": "5RtRSud6U7Ma",
        "colab_type": "code",
        "colab": {}
      },
      "source": [
        "event_df = event.copy()\n",
        "event_df = pd.get_dummies(event_df['event_type'], drop_first=False)\n",
        "event_df = pd.concat([event['id'],event_df], axis=1)\n",
        "event_df = event_df.groupby(['id'], as_index=False, sort=False).sum()\n",
        "event_df.id = event_df.id.astype(int)"
      ],
      "execution_count": 0,
      "outputs": []
    },
    {
      "cell_type": "code",
      "metadata": {
        "id": "aTZT8daxauZL",
        "colab_type": "code",
        "colab": {}
      },
      "source": [
        "diff_df = resource_df['id'] - event_df['id']\n",
        "diff_df"
      ],
      "execution_count": 0,
      "outputs": []
    },
    {
      "cell_type": "code",
      "metadata": {
        "id": "nTvroT5Bb4f4",
        "colab_type": "code",
        "colab": {}
      },
      "source": [
        "event_df.loc[0]['id']"
      ],
      "execution_count": 0,
      "outputs": []
    },
    {
      "cell_type": "code",
      "metadata": {
        "id": "A7luhRelblgH",
        "colab_type": "code",
        "colab": {}
      },
      "source": [
        "for i in range(0, len(resource_df)):\n",
        "  if (resource_df.loc[i]['id'] - event_df.loc[i]['id']) != 0:\n",
        "      print(\"What!!!!!!!!!!\")"
      ],
      "execution_count": 0,
      "outputs": []
    },
    {
      "cell_type": "code",
      "metadata": {
        "id": "5k_ZHMUwgjP5",
        "colab_type": "code",
        "colab": {}
      },
      "source": [
        "severity_df = severity.copy()\n",
        "severity_df = pd.get_dummies(severity_df['severity_type'], drop_first=False)\n",
        "severity_df = pd.concat([severity['id'],severity_df], axis=1)\n",
        "severity_df = severity_df.groupby(['id'], as_index=False, sort=False).sum()\n",
        "severity_df"
      ],
      "execution_count": 0,
      "outputs": []
    },
    {
      "cell_type": "code",
      "metadata": {
        "id": "eb6Hurufg7-q",
        "colab_type": "code",
        "outputId": "d3dbd96a-d313-4072-f3ee-3fb08587329a",
        "colab": {
          "base_uri": "https://localhost:8080/",
          "height": 34
        }
      },
      "source": [
        "print(resource_df.shape, event_df.shape, severity_df.shape)"
      ],
      "execution_count": 8,
      "outputs": [
        {
          "output_type": "stream",
          "text": [
            "(18552, 11) (18552, 54) (18552, 6)\n"
          ],
          "name": "stdout"
        }
      ]
    },
    {
      "cell_type": "code",
      "metadata": {
        "id": "uMMukjI_XX10",
        "colab_type": "code",
        "colab": {}
      },
      "source": [
        "event_df.loc[:,event_df.columns!='id']"
      ],
      "execution_count": 0,
      "outputs": []
    },
    {
      "cell_type": "code",
      "metadata": {
        "id": "vaEgbml6Uh0X",
        "colab_type": "code",
        "colab": {}
      },
      "source": [
        "extras_df = pd.concat([resource_df,event_df.loc[:,event_df.columns!='id'],severity_df.loc[:,severity_df.columns!='id']],axis=1)\n",
        "extras_df"
      ],
      "execution_count": 0,
      "outputs": []
    },
    {
      "cell_type": "code",
      "metadata": {
        "id": "r9Kbwj3gYYq6",
        "colab_type": "code",
        "colab": {
          "base_uri": "https://localhost:8080/",
          "height": 34
        },
        "outputId": "2de30623-2f43-432b-fd09-8c76022b70e2"
      },
      "source": [
        "extras_df.shape"
      ],
      "execution_count": 19,
      "outputs": [
        {
          "output_type": "execute_result",
          "data": {
            "text/plain": [
              "(18552, 69)"
            ]
          },
          "metadata": {
            "tags": []
          },
          "execution_count": 19
        }
      ]
    },
    {
      "cell_type": "code",
      "metadata": {
        "id": "Hl5U2feQYn3M",
        "colab_type": "code",
        "colab": {}
      },
      "source": [
        "ids = extras_df['id']\n",
        "extras_df[ids.isin(ids[ids.duplicated()])]"
      ],
      "execution_count": 0,
      "outputs": []
    },
    {
      "cell_type": "code",
      "metadata": {
        "id": "pt-e9j5ibREN",
        "colab_type": "code",
        "colab": {}
      },
      "source": [
        "extras_df.loc[extras_df['id'] == 9320]"
      ],
      "execution_count": 0,
      "outputs": []
    },
    {
      "cell_type": "code",
      "metadata": {
        "id": "fAIDps-OYc2v",
        "colab_type": "code",
        "colab": {
          "base_uri": "https://localhost:8080/",
          "height": 34
        },
        "outputId": "1af1df09-c275-4bc5-9db4-10a1d1e6b742"
      },
      "source": [
        "train.shape"
      ],
      "execution_count": 22,
      "outputs": [
        {
          "output_type": "execute_result",
          "data": {
            "text/plain": [
              "(5999, 3)"
            ]
          },
          "metadata": {
            "tags": []
          },
          "execution_count": 22
        }
      ]
    },
    {
      "cell_type": "code",
      "metadata": {
        "id": "CjVLFELRYMzw",
        "colab_type": "code",
        "colab": {}
      },
      "source": [
        "train.loc[:,train.columns=='id']"
      ],
      "execution_count": 0,
      "outputs": []
    },
    {
      "cell_type": "code",
      "metadata": {
        "id": "7Snn9dwoaddV",
        "colab_type": "code",
        "colab": {}
      },
      "source": [
        "train_data = pd.merge(train,extras_df)"
      ],
      "execution_count": 0,
      "outputs": []
    },
    {
      "cell_type": "code",
      "metadata": {
        "id": "E0_lYd9ebpFT",
        "colab_type": "code",
        "colab": {}
      },
      "source": [
        "train_data.head(3)"
      ],
      "execution_count": 0,
      "outputs": []
    },
    {
      "cell_type": "code",
      "metadata": {
        "id": "9xWUqYTSbgZo",
        "colab_type": "code",
        "colab": {}
      },
      "source": [
        "test.isnull().values.any()"
      ],
      "execution_count": 0,
      "outputs": []
    },
    {
      "cell_type": "code",
      "metadata": {
        "id": "JbVmHTtTcSF6",
        "colab_type": "code",
        "colab": {}
      },
      "source": [
        "x_train = train_data.drop(['fault_severity'], axis=1)\n",
        "y_train = train_data['fault_severity']"
      ],
      "execution_count": 0,
      "outputs": []
    },
    {
      "cell_type": "code",
      "metadata": {
        "id": "pYCFbigacnoT",
        "colab_type": "code",
        "colab": {
          "base_uri": "https://localhost:8080/",
          "height": 34
        },
        "outputId": "2a0ed802-2bb1-4cb8-b915-2c2ba52b510c"
      },
      "source": [
        "x_train.shape"
      ],
      "execution_count": 39,
      "outputs": [
        {
          "output_type": "execute_result",
          "data": {
            "text/plain": [
              "(5999, 70)"
            ]
          },
          "metadata": {
            "tags": []
          },
          "execution_count": 39
        }
      ]
    },
    {
      "cell_type": "code",
      "metadata": {
        "id": "3mQQiAGbdYfj",
        "colab_type": "code",
        "colab": {}
      },
      "source": [
        "test = pd.merge(test,extras_df)"
      ],
      "execution_count": 0,
      "outputs": []
    },
    {
      "cell_type": "code",
      "metadata": {
        "id": "SMRroGO-djSF",
        "colab_type": "code",
        "colab": {
          "base_uri": "https://localhost:8080/",
          "height": 34
        },
        "outputId": "e869874c-a738-456a-85c0-1dca1aba1b55"
      },
      "source": [
        "test.shape"
      ],
      "execution_count": 44,
      "outputs": [
        {
          "output_type": "execute_result",
          "data": {
            "text/plain": [
              "(1382, 70)"
            ]
          },
          "metadata": {
            "tags": []
          },
          "execution_count": 44
        }
      ]
    },
    {
      "cell_type": "code",
      "metadata": {
        "id": "P22p7h5kdxiA",
        "colab_type": "code",
        "colab": {}
      },
      "source": [
        "train_data.corr()"
      ],
      "execution_count": 0,
      "outputs": []
    },
    {
      "cell_type": "code",
      "metadata": {
        "id": "LiZG_IwMepfj",
        "colab_type": "code",
        "colab": {}
      },
      "source": [
        "x_train.to_csv('/content/drive/My Drive/Colab Notebooks/data/TelstraNWDisruptions/x_train.csv')\n",
        "y_train.to_csv('/content/drive/My Drive/Colab Notebooks/data/TelstraNWDisruptions/y_train.csv')\n",
        "test.to_csv('/content/drive/My Drive/Colab Notebooks/data/TelstraNWDisruptions/test.csv')"
      ],
      "execution_count": 0,
      "outputs": []
    },
    {
      "cell_type": "code",
      "metadata": {
        "id": "HazcNTVWh2rX",
        "colab_type": "code",
        "colab": {}
      },
      "source": [
        "x_train['location'] = x_train['location'].map(lambda x: x.lstrip('location '))"
      ],
      "execution_count": 0,
      "outputs": []
    },
    {
      "cell_type": "code",
      "metadata": {
        "id": "_tg8YX-eiIqv",
        "colab_type": "code",
        "colab": {}
      },
      "source": [
        "test['location'] = test['location'].map(lambda x: x.lstrip('location '))"
      ],
      "execution_count": 0,
      "outputs": []
    },
    {
      "cell_type": "code",
      "metadata": {
        "id": "gP-gaIAuh8eN",
        "colab_type": "code",
        "colab": {}
      },
      "source": [
        "x_train.head(5)"
      ],
      "execution_count": 0,
      "outputs": []
    },
    {
      "cell_type": "code",
      "metadata": {
        "id": "BcYgadycihLP",
        "colab_type": "code",
        "colab": {
          "base_uri": "https://localhost:8080/",
          "height": 34
        },
        "outputId": "9ece7be6-61d9-4678-b037-40d12950b401"
      },
      "source": [
        "print(x_train.shape, y_train.shape, test.shape)"
      ],
      "execution_count": 57,
      "outputs": [
        {
          "output_type": "stream",
          "text": [
            "(5999, 70) (5999,) (1382, 70)\n"
          ],
          "name": "stdout"
        }
      ]
    },
    {
      "cell_type": "code",
      "metadata": {
        "id": "T-ehsM3ceRuW",
        "colab_type": "code",
        "colab": {}
      },
      "source": [
        "from sklearn.ensemble import RandomForestClassifier\n",
        "classifier = RandomForestClassifier(verbose=2, n_estimators=100)"
      ],
      "execution_count": 0,
      "outputs": []
    },
    {
      "cell_type": "code",
      "metadata": {
        "id": "TnQvMxfWfW8g",
        "colab_type": "code",
        "colab": {}
      },
      "source": [
        "classifier.fit(x_train,y_train)"
      ],
      "execution_count": 0,
      "outputs": []
    },
    {
      "cell_type": "code",
      "metadata": {
        "id": "mlKyaoSafaxG",
        "colab_type": "code",
        "colab": {
          "base_uri": "https://localhost:8080/",
          "height": 68
        },
        "outputId": "96a8fdb8-c926-4201-ad7d-bdbb34612dca"
      },
      "source": [
        "y_pred = classifier.predict(test)"
      ],
      "execution_count": 62,
      "outputs": [
        {
          "output_type": "stream",
          "text": [
            "[Parallel(n_jobs=1)]: Using backend SequentialBackend with 1 concurrent workers.\n",
            "[Parallel(n_jobs=1)]: Done   1 out of   1 | elapsed:    0.0s remaining:    0.0s\n",
            "[Parallel(n_jobs=1)]: Done 100 out of 100 | elapsed:    0.0s finished\n"
          ],
          "name": "stderr"
        }
      ]
    },
    {
      "cell_type": "code",
      "metadata": {
        "id": "4bv6hEFOfkkB",
        "colab_type": "code",
        "colab": {}
      },
      "source": [
        "unique, counts = np.unique(y_pred, return_counts=True)\n",
        "\n",
        "print(np.asarray((unique, counts)).T)"
      ],
      "execution_count": 0,
      "outputs": []
    },
    {
      "cell_type": "code",
      "metadata": {
        "id": "dGBccfPakCgS",
        "colab_type": "code",
        "colab": {}
      },
      "source": [
        "pred = pd.DataFrame(y_pred)\n",
        "sub_df = pd.read_csv(\"/content/drive/My Drive/Colab Notebooks/data/TelstraNWDisruptions/test.csv\")\n",
        "predFile = pd.concat([sub_df['id'],pred], axis=1)\n",
        "predFile.columns = ['id', 'Prediction']"
      ],
      "execution_count": 0,
      "outputs": []
    },
    {
      "cell_type": "code",
      "metadata": {
        "id": "6mId_qXKsFoA",
        "colab_type": "code",
        "colab": {
          "base_uri": "https://localhost:8080/",
          "height": 85
        },
        "outputId": "81cef88f-f716-4a9e-8739-14db2b84cb85"
      },
      "source": [
        "predFile['Prediction'].value_counts()"
      ],
      "execution_count": 85,
      "outputs": [
        {
          "output_type": "execute_result",
          "data": {
            "text/plain": [
              "0    964\n",
              "1    296\n",
              "2    122\n",
              "Name: Prediction, dtype: int64"
            ]
          },
          "metadata": {
            "tags": []
          },
          "execution_count": 85
        }
      ]
    },
    {
      "cell_type": "code",
      "metadata": {
        "id": "EgQRswCYrpF4",
        "colab_type": "code",
        "colab": {}
      },
      "source": [
        "test.loc[test['id'] == 11066]"
      ],
      "execution_count": 0,
      "outputs": []
    },
    {
      "cell_type": "code",
      "metadata": {
        "id": "MzNyCU5St5ID",
        "colab_type": "code",
        "colab": {}
      },
      "source": [
        "predFile"
      ],
      "execution_count": 0,
      "outputs": []
    },
    {
      "cell_type": "code",
      "metadata": {
        "id": "VNGr0ksNuSYX",
        "colab_type": "code",
        "colab": {}
      },
      "source": [
        "pred_dummies = pd.get_dummies(predFile[\"Prediction\"],prefix='predict',drop_first=False)"
      ],
      "execution_count": 0,
      "outputs": []
    },
    {
      "cell_type": "code",
      "metadata": {
        "id": "GV6E3nf7uinz",
        "colab_type": "code",
        "colab": {}
      },
      "source": [
        "pred_dummies"
      ],
      "execution_count": 0,
      "outputs": []
    },
    {
      "cell_type": "code",
      "metadata": {
        "id": "5E-s-HKiupjy",
        "colab_type": "code",
        "colab": {}
      },
      "source": [
        "predFinal = pd.concat([sub_df['id'],pred_dummies], axis=1)"
      ],
      "execution_count": 0,
      "outputs": []
    },
    {
      "cell_type": "code",
      "metadata": {
        "id": "mwVEbiL1uvvu",
        "colab_type": "code",
        "colab": {}
      },
      "source": [
        "predFinal"
      ],
      "execution_count": 0,
      "outputs": []
    },
    {
      "cell_type": "code",
      "metadata": {
        "id": "Jgtq_7AHu4xp",
        "colab_type": "code",
        "colab": {}
      },
      "source": [
        "predFinal.to_csv('predFinal.csv', index=False)"
      ],
      "execution_count": 0,
      "outputs": []
    }
  ]
}